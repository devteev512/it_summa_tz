{
 "cells": [
  {
   "cell_type": "code",
   "execution_count": null,
   "id": "e248379d",
   "metadata": {
    "scrolled": true
   },
   "outputs": [],
   "source": [
    "#import findspark\n",
    "#findspark.init('/home/tabqui-acer/TZ_ATEMPT_2/spark-3.1.3-bin-hadoop3.2')\n",
    "import pyspark\n",
    "from pyspark.sql import SparkSession\n",
    "from pyspark import sql\n",
    "from pyspark.sql.types import StructType,StructField,StringType,IntegerType\n",
    "from pyspark.sql.functions import from_json,col"
   ]
  },
  {
   "cell_type": "code",
   "execution_count": null,
   "id": "bafb110b",
   "metadata": {},
   "outputs": [],
   "source": [
    "url = 'jdbc:postgresql://localhost:5432/gpadmin' # Коннект к БД\n",
    "login = 'gpadmin' #Логин БД\n",
    "password = 'gpadmin' #Пароль БД\n",
    "table = 'test_evteev' # название таблицы куда пишем данные"
   ]
  },
  {
   "cell_type": "code",
   "execution_count": null,
   "id": "f9849aea",
   "metadata": {},
   "outputs": [],
   "source": [
    "spark = (SparkSession\n",
    " .builder\n",
    " .appName('pyspark_example')\n",
    " .config(\"spark.jars.packages\", \"org.apache.spark:spark-streaming-kafka-0-10_2.12:3.1.3,org.apache.spark:spark-sql-kafka-0-10_2.12:3.1.3\") \\\n",
    " .config(\"spark.executor.extraClassPath\", \"TZ_ATEMPT_2/spark-3.1.3-bin-hadoop3.2/jarspostgresql-42.5.0.jar\") \\\n",
    " .config(\"spark.sql.streaming.forceDeleteTempCheckpointLocation\", True)\n",
    " .getOrCreate())"
   ]
  },
  {
   "cell_type": "code",
   "execution_count": null,
   "id": "c17ac60f",
   "metadata": {},
   "outputs": [],
   "source": [
    "schema = StructType([ \\\n",
    "    StructField(\"ID\", IntegerType(), True), \\\n",
    "    StructField(\"FIRSTNAME\", StringType(), True), \\\n",
    "    StructField(\"LASTNAME\", StringType(), True),\\\n",
    "    StructField(\"PHONE\", StringType(), True), \\\n",
    "    StructField(\"EMAIL\", StringType(), True) \\\n",
    "  ])"
   ]
  },
  {
   "cell_type": "code",
   "execution_count": null,
   "id": "84030d89",
   "metadata": {},
   "outputs": [],
   "source": [
    "df_test = spark \\\n",
    "            .readStream \\\n",
    "            .format(\"kafka\") \\\n",
    "            .option(\"kafka.bootstrap.servers\", 'localhost:9092') \\\n",
    "            .option(\"subscribe\",'test_evteev') \\\n",
    "            .option(\"startingOffsets\", \"earliest\") \\\n",
    "            .load() \\\n",
    "            .select(from_json(col(\"value\").cast(\"string\"), schema).alias(\"t\")) \\\n",
    "            .select(\"t.*\")  \n",
    "            \n",
    "                "
   ]
  },
  {
   "cell_type": "code",
   "execution_count": null,
   "id": "6c99d1ca",
   "metadata": {},
   "outputs": [],
   "source": [
    "# query = df_test1.writeStream.format(\"console\") \\ Если нужно проверить данные в консоле \n",
    " #             .option(\"truncate\", \"false\") \\    \n",
    "#             .outputMode(\"append\") \\\n",
    "#             .trigger(processingTime='5 seconds') \\\n",
    "#             .start() \\\n",
    "#             .awaitTermination()"
   ]
  },
  {
   "cell_type": "code",
   "execution_count": null,
   "id": "21531fa0",
   "metadata": {},
   "outputs": [],
   "source": [
    "def write_to_gp(df,epoch_id) -> None:         \n",
    "    df.write \\\n",
    "        .mode('append') \\\n",
    "        .format(\"jdbc\") \\\n",
    "        .option(\"url\", url) \\\n",
    "        .option(\"driver\", \"org.postgresql.Driver\") \\\n",
    "        .option(\"dbtable\", table) \\\n",
    "        .option(\"user\", login) \\\n",
    "        .option(\"password\", password) \\\n",
    "        .save() \n",
    "\n",
    "df_test.writeStream \\\n",
    "    .foreachBatch(write_to_gp) \\\n",
    "    .start() \\\n",
    "    .awaitTermination()"
   ]
  },
  {
   "cell_type": "code",
   "execution_count": null,
   "id": "73fcb655",
   "metadata": {},
   "outputs": [],
   "source": []
  }
 ],
 "metadata": {
  "kernelspec": {
   "display_name": "Python 3.9.13 ('base')",
   "language": "python",
   "name": "python3"
  },
  "language_info": {
   "codemirror_mode": {
    "name": "ipython",
    "version": 3
   },
   "file_extension": ".py",
   "mimetype": "text/x-python",
   "name": "python",
   "nbconvert_exporter": "python",
   "pygments_lexer": "ipython3",
   "version": "3.9.13"
  },
  "vscode": {
   "interpreter": {
    "hash": "a2f1b69973a373f0e824d44d19efa54268355f76fae9bd9767957c0bdc9e9049"
   }
  }
 },
 "nbformat": 4,
 "nbformat_minor": 5
}
